{
 "cells": [
  {
   "cell_type": "markdown",
   "id": "a98bb4e1",
   "metadata": {},
   "source": [
    "**Encontrar los números primos en un rango.**\n",
    "**¿Cómo se determina un numero primo:?**\n",
    "\n",
    "Los primeros métodos para identificar números primos se denominan pruebas de primalidad y se basan en la verificación de divisibilidad por números menores que el número a evaluar. La comprobación se realiza hasta el valor cuya potencia (cuadrado) sea menor o igual al número elegido. Si el número es divisible por alguno de estos valores, es compuesto; de lo contrario, es primo.\n",
    "\n",
    "Para implementar este proceso, podemos comenzar creando una lista de números y utilizar un bucle FOR que recorra cada elemento del arreglo, verificando su condición de primo mediante una función que retorne True o False.\n",
    "\n",
    "**Función para verificar si un número es primo:** \n",
    "\n",
    "*El valor 2 se considera primo por definición.\n",
    "\n",
    "*Se declara una variable divisor que se utilizará para iterar desde 2 hasta el valor cuyo cuadrado sea menor o igual al número a comprobar.\n",
    "\n",
    "*Se define una variable es_primo, que inicialmente se establece en True. Si se encuentra un divisor que genere un residuo 0, es_primo se cambia a False y se termina la comprobación.\n",
    "\n",
    "*La función retorna el estado de es_primo.\n",
    "\n"
   ]
  },
  {
   "cell_type": "markdown",
   "id": "310a5dd8",
   "metadata": {},
   "source": [
    "\n",
    "***Este código en pseudocódigo define un proceso para verificar cuáles números de una lista son primos y almacenarlos en una nueva lista.***\n",
    "\n",
    "Definir la lista: Se crea una lista de números lista = [21, 3, 2, 4, 45, 6778, 976, 55, 201, 11, 17, 19].\n",
    "\n",
    "Definir la lista vacía de primos: lista_primos = [], que se usará para almacenar los números primos encontrados en lista.\n",
    "\n",
    "Función comprobarPrimo: Esta función determina si un número dado es primo o no:\n",
    "\n",
    "Si el número es menor que 2, no es primo.\n",
    "\n",
    "Si el número es igual a 2, es primo.\n",
    "\n",
    "Luego, verifica si el número tiene divisores enteros entre 2 y la raíz cuadrada del número.\n",
    "\n",
    "Si encuentra un divisor, marca el número como no primo y termina la comprobación.\n",
    "\n",
    "Si no encuentra divisores, el número es primo.\n",
    "\n",
    "Bucle para cada i: Itera sobre todos los números en la lista lista. Para cada número, se comprueba si es primo usando la función comprobarPrimo. Si es primo, se agrega a la lista lista_primos.\n",
    "\n",
    "Mostrar la lista de primos: Finalmente, se muestra la lista de números primos encontrados."
   ]
  },
  {
   "cell_type": "code",
   "execution_count": null,
   "id": "628ba433",
   "metadata": {},
   "outputs": [
    {
     "name": "stdout",
     "output_type": "stream",
     "text": [
      "[3, 2, 11, 17, 19]\n"
     ]
    }
   ],
   "source": [
    "# Lista de números en la que se buscarán los números primos\n",
    "lista = [21, 3, 2, 4, 45, 6778, 976, 55, 201, 11, 17, 19]  # Encontrar los números primos en un rango\n",
    "lista_primos = []  # Lista vacía donde se almacenarán los números primos encontrados\n",
    "\n",
    "# Función para comprobar si un número es primo\n",
    "def comprobarprimo(numeroelejido):\n",
    "    n = 2  # Comenzamos con el número 2 para verificar divisibilidad\n",
    "    primo = True  # Asumimos que el número es primo hasta que se demuestre lo contrario\n",
    "    \n",
    "    if numeroelejido < 2:  # Los números menores a 2 no son primos\n",
    "        return False\n",
    "    \n",
    "    if numeroelejido == 2:  # El número 2 es primo\n",
    "        return True\n",
    "    \n",
    "    # Comprobamos si el número tiene divisores entre 2 y su raíz cuadrada\n",
    "    while (n * n) <= numeroelejido:  \n",
    "        if numeroelejido % n == 0:  # Si el número es divisible por n, no es primo\n",
    "            primo = False  \n",
    "            break  # Si encontramos un divisor, terminamos la comprobación\n",
    "        else:\n",
    "            n = n + 1  # Incrementamos n y seguimos comprobando\n",
    "        \n",
    "    return primo  # Si no se encontró ningún divisor, el número es primo\n",
    "\n",
    "# Bucle que recorre la lista y verifica si cada número es primo\n",
    "for i in range(len(lista)):\n",
    "    if comprobarprimo(lista[i]):  # Si el número en la lista es primo\n",
    "        lista_primos.append(lista[i])  # Lo agregamos a la lista de números primos\n",
    "\n",
    "# Imprimimos los números primos encontrados\n",
    "print(lista_primos)"
   ]
  },
  {
   "cell_type": "code",
   "execution_count": null,
   "id": "c88910cb",
   "metadata": {},
   "outputs": [],
   "source": [
    "lista = [21, 3, 2, 4, 45, 6778, 976, 55, 201, 11, 17, 19]\n",
    "lista_primos = []\n",
    "\n",
    "def comprobarprimo(numeroelejido):\n",
    "    n = 2\n",
    "    primo = True\n",
    "    if numeroelejido < 2:\n",
    "        return False\n",
    "    if numeroelejido == 2:\n",
    "        return True\n",
    "    while (n * n) <= numeroelejido:  \n",
    "        if numeroelejido % n == 0:\n",
    "            primo = False  \n",
    "            break\n",
    "        else:\n",
    "            n = n + 1\n",
    "    return primo\n",
    "\n",
    "for i in range(len(lista)):\n",
    "    if comprobarprimo(lista[i]):\n",
    "        lista_primos.append(lista[i])\n",
    "\n",
    "print(lista_primos)\n",
    "\n",
    "\n",
    "\n",
    "\n",
    "\n",
    "\n",
    "\n"
   ]
  }
 ],
 "metadata": {
  "kernelspec": {
   "display_name": "Python 3",
   "language": "python",
   "name": "python3"
  },
  "language_info": {
   "codemirror_mode": {
    "name": "ipython",
    "version": 3
   },
   "file_extension": ".py",
   "mimetype": "text/x-python",
   "name": "python",
   "nbconvert_exporter": "python",
   "pygments_lexer": "ipython3",
   "version": "3.11.3"
  }
 },
 "nbformat": 4,
 "nbformat_minor": 5
}
