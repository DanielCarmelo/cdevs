{
 "cells": [
  {
   "cell_type": "markdown",
   "id": "bf10ad96",
   "metadata": {},
   "source": [
    "# Pregunta 1: Calcular el promedio de las notas de la clase\n",
    "¿Cómo lo harías?\n",
    "\n",
    "Ingresar las notas en una lista.\n",
    "\n",
    "Sumar todas las notas.\n",
    "\n",
    "Dividir la suma total entre la cantidad de notas."
   ]
  },
  {
   "cell_type": "code",
   "execution_count": null,
   "id": "363e9d02",
   "metadata": {},
   "outputs": [],
   "source": [
    "# Ingreso de notas separadas por comas\n",
    "entrada = input(\"Ingresa todas las notas separadas por comas (ej: 8.5, 9.0, 7.5): \")\n",
    "\n",
    "# Conversión a lista de números\n",
    "notas = [float(nota.strip()) for nota in entrada.split(\",\")]\n",
    "\n",
    "# Calcular promedio\n",
    "suma_total = sum(notas)\n",
    "cantidad = len(notas)\n",
    "promedio = suma_total / cantidad\n",
    "\n",
    "# Mostrar resultado\n",
    "print(f\"\\nEl promedio de la clase es: {promedio:.2f}\")"
   ]
  },
  {
   "cell_type": "markdown",
   "id": "ba6d83f1",
   "metadata": {},
   "source": [
    "# Pregunta 2: Encontrar la nota más baja y la más alta\n",
    "¿Cómo lo harías?\n",
    "\n",
    "Usar funciones como min() y max() si estás programando.\n",
    "\n",
    "Si lo haces a mano, recorrer todas las notas y comparar una a una."
   ]
  },
  {
   "cell_type": "code",
   "execution_count": null,
   "id": "188a50d8",
   "metadata": {},
   "outputs": [],
   "source": [
    "nota_mas_baja = min(notas)\n",
    "nota_mas_alta = max(notas)\n",
    "print(\"La nota más baja es:\", nota_mas_baja)\n",
    "print(\"La nota más alta es:\", nota_mas_alta)"
   ]
  },
  {
   "cell_type": "markdown",
   "id": "2c662198",
   "metadata": {},
   "source": [
    "# Desafío Optativo: Gestión del stock de la verdulería\n",
    "\n",
    "¡Bienvenido al desafío de la verdulería! Has sido nombrado el nuevo gerente de una tienda de frutas, verduras y hortalizas. Tu tarea será manejar el stock de la tienda utilizando un arreglo. Aquí hay una serie de tareas que tendrás que completar.\n",
    "\n",
    "### Inventario inicial\n",
    "\n",
    "\n",
    " **Pregunta 1: ¿Cuántos tipos de productos hay en el inventario inicial?**\n",
    "\n",
    " **Pregunta 2: ¿Qué producto está en la tercera posición del inventario?**\n",
    " \n",
    " ### Gestión del inventario\n",
    "Un cliente viene y compra todas las bananas.\n",
    "\n",
    "**Pregunta 3: ¿Cómo actualizarías el inventario después de la venta?**\n",
    "\n",
    "Ahora recibes un envío de nuevos productos: \"frutillas\", \"apio\" y \"papas\".\n",
    "\n",
    "**Pregunta 4: ¿Cómo añadirías estos productos al inventario?**\n",
    "\n",
    "**Pregunta 5: ¿Cómo verificas si las \"papas\" están ahora en el inventario?**\n",
    "\n",
    "Un agricultor viene con una rara fruta llamada \"dragonfruit\", pero sólo tienes espacio para 7 productos en tu tienda.\n",
    "\n",
    "**Pregunta 6: ¿Cómo decidirías qué producto sacar para hacer espacio para el \"dragonfruit\"?**\n",
    "\n",
    "### Ordenando el inventario\n",
    "Decides que sería más fácil gestionar el inventario si estuviera ordenado alfabéticamente.\n",
    "\n",
    "**Pregunta 7: ¿Cómo ordenarías el inventario?**\n",
    "\n",
    "Un nuevo empleado viene y necesita una copia del inventario para poder reponer los estantes.\n",
    "\n",
    "**Pregunta 8: ¿Cómo proporcionarías una copia del inventario al nuevo empleado, asegurándote de que si el empleado hace cambios en su copia, el inventario original no se vea afectado?**\n",
    "\n",
    " Esperamos que disfrutes de este desafío y que te ayude a entender mejor cómo trabajar con arreglos en Python. ¡Buena suerte, gerente de la tienda!\n"
   ]
  },
  {
   "cell_type": "code",
   "execution_count": null,
   "id": "9898a7f7",
   "metadata": {},
   "outputs": [],
   "source": [
    "\n",
    " # Agregamos estas dos estructuras de tuplas para resolver las preguntas\n",
    "\n",
    "\n",
    "\n",
    "#  Esta es para determinar los distintos tipos de productos \n",
    "\n",
    "Tipos = {\n",
    "    \"manzanas\": \"fruta\",\n",
    "    \"bananas\": \"fruta\",\n",
    "    \"zanahorias\": \"verdura\" ,\n",
    "    \"espinacas\": \"hortaliza \",\n",
    "    \"brocoli\": \"hortaliza\",\n",
    "    \"cebolla\": \"verdura\",\n",
    "    \"kiwis\": \"fruta\"\n",
    "    }\n",
    "  \n",
    "\n",
    " # Esta es para determinar que producto eliminar con menor stock \n",
    "  \n",
    "stock = {\n",
    "    \"manzanas\": 25,\n",
    "    \"bananas\":60,\n",
    "      \"zanahorias\": 60,\n",
    "    \"espinacas\": 15,\n",
    "    \"brocoli\": 30,\n",
    "    \"cebolla\": 50,\n",
    "    \"kiwis\": 40\n",
    "    }\n"
   ]
  },
  {
   "cell_type": "markdown",
   "id": "d1f2e3ef",
   "metadata": {},
   "source": [
    "# ***Se irán respondiendo las preguntas a medida que avanzamos con el código***"
   ]
  },
  {
   "cell_type": "code",
   "execution_count": null,
   "id": "a13ea7c9",
   "metadata": {},
   "outputs": [],
   "source": [
    "# Inventario inicial\n",
    "inventario = [\"manzanas\", \"bananas\", \"zanahorias\", \"espinacas\", \"brocoli\", \"cebolla\", \"kiwis\"]\n",
    "\n",
    "# Diccionario de tipos\n",
    "tipos = {\n",
    "    \"manzanas\": \"fruta\",\n",
    "    \"bananas\": \"fruta\",\n",
    "    \"zanahorias\": \"verdura\",\n",
    "    \"espinacas\": \"hortaliza\",\n",
    "    \"brocoli\": \"hortaliza\",\n",
    "    \"cebolla\": \"verdura\",\n",
    "    \"kiwis\": \"fruta\"\n",
    "}\n",
    "\n",
    "# Diccionario de stock\n",
    "stock = {\n",
    "    \"manzanas\": 25,\n",
    "    \"bananas\": 60,\n",
    "    \"zanahorias\": 60,\n",
    "    \"espinacas\": 15,\n",
    "    \"brocoli\": 30,\n",
    "    \"cebolla\": 50,\n",
    "    \"kiwis\": 40\n",
    "}\n",
    "\n",
    "# Pregunta 1: ¿Cuántos tipos diferentes de producto hay?\n",
    "tipos_unicos = set(tipos.values())\n",
    "print(\"Pregunta 1: Tipos de productos:\", len(tipos_unicos))\n",
    "\n",
    "# Pregunta 2: ¿Qué producto está en la tercera posición del inventario?\n",
    "print(\"Pregunta 2: Producto en la tercera posición:\", inventario[2])\n",
    "\n",
    "# Pregunta 3: Eliminar las bananas del inventario\n",
    "inventario.remove(\"bananas\")\n",
    "stock.pop(\"bananas\")\n",
    "tipos.pop(\"bananas\")\n",
    "print(\"Pregunta 3: Inventario tras vender todas las bananas:\", inventario)\n",
    "\n",
    "# Pregunta 4: Añadir frutillas, apio y papas\n",
    "nuevos_productos = [\"frutillas\", \"apio\", \"papas\"]\n",
    "inventario.extend(nuevos_productos)\n",
    "tipos.update({\"frutillas\": \"fruta\", \"apio\": \"hortaliza\", \"papas\": \"verdura\"})\n",
    "stock.update({\"frutillas\": 35, \"apio\": 20, \"papas\": 45})\n",
    "print(\"Pregunta 4: Inventario actualizado:\", inventario)\n",
    "\n",
    "# Pregunta 5: Verificar si las papas están en el inventario\n",
    "print(\"Pregunta 5: ¿'papas' está en el inventario?\", \"papas\" in inventario)\n",
    "\n",
    "# Pregunta 6: Agregar dragonfruit, eliminando el de menor stock\n",
    "producto_menor_stock = min(stock, key=stock.get)\n",
    "print(\"Pregunta 6: Eliminamos para hacer espacio:\", producto_menor_stock)\n",
    "inventario.remove(producto_menor_stock)\n",
    "stock.pop(producto_menor_stock)\n",
    "tipos.pop(producto_menor_stock)\n",
    "\n",
    "# Agregar dragonfruit\n",
    "inventario.append(\"dragonfruit\")\n",
    "tipos[\"dragonfruit\"] = \"fruta\"\n",
    "stock[\"dragonfruit\"] = 22\n",
    "print(\"Inventario con dragonfruit:\", inventario)\n",
    "\n",
    "# Pregunta 7: Inventario ordenado alfabéticamente\n",
    "inventario_ordenado = sorted(inventario)\n",
    "print(\"Pregunta 7: Inventario ordenado alfabéticamente:\", inventario_ordenado)\n",
    "\n",
    "# Pregunta 8: Crear una copia del inventario\n",
    "inventario_copia = inventario.copy()\n",
    "print(\"Pregunta 8: Copia del inventario (independiente del original):\", inventario_copia)\n",
    "\n",
    "# Verificamos independencia\n",
    "inventario_copia.append(\"pepino\")\n",
    "print(\"Inventario original:\", inventario)\n",
    "print(\"Inventario copia (modificado):\", inventario_copia)\n"
   ]
  },
  {
   "cell_type": "markdown",
   "id": "d3dccdb9",
   "metadata": {},
   "source": [
    "\n",
    "***Otra alternativa, sin agregar tuplas y continuando con listas, es crear listas cuyos elementos también sean listas.***\n",
    "Para darle el máximo realismo, se tuvo en cuenta tanto lo \"pesable\" como lo \"no pesable\". Además, en la realidad se utiliza la volumetría de los productos en litros, lo que define el espacio físico necesario para cada uno.\n",
    "Ejemplo: 6 atados de acelga ocupan un cajón, mientras que 25 kg de papas también ocupan uno.\n",
    "Quizás, para la respuesta 6, se podría realizar una ecuación que tome en cuenta la volumetría, el margen de ganancia que deja el producto y, si existiera, un historial de ventas."
   ]
  },
  {
   "cell_type": "code",
   "execution_count": 4,
   "id": "aa4d4077",
   "metadata": {},
   "outputs": [
    {
     "name": "stdout",
     "output_type": "stream",
     "text": [
      "zanahorias\n"
     ]
    }
   ],
   "source": [
    "inventario = [[\"manzanas\", \"bananas\", \"zanahorias\", \"espinacas\", \"brocoli\", \"cebolla\", \"kiwis\"],   # Producto\n",
    "             [\"fruta\", \"fruta\", \"verdura\", \"hortalizas\", \"hortalizas\", \"verdura\", \"fruta\"],        # Tipos\n",
    "             [\"5\", \"5\", \"5\", \"5\", \"5\", \"5\", \"5\"],                                                  # Stock en Kg o unidad\n",
    "             [\".7\", \".6\", \".8\", \"1.5\", \"1.2\", \".6\", \".5\"],                                          # Volumetría kg/litos\n",
    "             [\"p\", \"p\", \"p\", \"u\", \"p\", \"p\", \"p\"],                                                  # Pesable o Unitario\n",
    "             [\"45\", \"99\", \"80\", \"35\", \"46\", \"80\", \"130\"],                                          # Precio costo\n",
    "             [\"25\", \"30\", \"20\", \"50\", \"30\", \"24\", \"30\"]]                                           # Margen de ganancia en %  \n",
    "              \n",
    "                          \n",
    "print(inventario[0][2])"
   ]
  },
  {
   "cell_type": "markdown",
   "id": "7496c211",
   "metadata": {},
   "source": [
    "# Desafío 2: Ordenar el inventario de libros\n",
    "\n",
    "Como encargado de la biblioteca, necesitas organizar los libros de acuerdo con sus códigos de identificación en orden decreciente, sin modificar la lista original. Se recomienda usar la función sorted(). ¿Por qué es importante no modificar la lista original? ¿Por qué no puedo usar el método sort sobre la lista original?"
   ]
  },
  {
   "cell_type": "markdown",
   "id": "959a1499",
   "metadata": {},
   "source": [
    "Lo primero que har que tener en cuenta es que las listas son mutables, por lo que debemos ser muy cuidadosos al momento de trabajar con ellas.\n",
    "No se debe usar el método sort() porque cambia el orden de la lista original, y a veces necesitamos conservar ese orden por si se usa después. Por ejemplo, si después quiero volver a ver la lista como estaba al principio, ya no se puede porque sort() la modificó para siempre.\n",
    "\n",
    "En cambio, con la función sorted() se crea una nueva lista ordenada, pero sin cambiar la original. Eso es mejor cuando no queremos perder los datos como estaban antes.\n",
    "\n",
    "Por eso es mejor usar sorted() en este caso, así organizamos los libros en orden descendente sin perder el orden original por si lo necesitamos luego."
   ]
  }
 ],
 "metadata": {
  "kernelspec": {
   "display_name": "Python 3",
   "language": "python",
   "name": "python3"
  },
  "language_info": {
   "codemirror_mode": {
    "name": "ipython",
    "version": 3
   },
   "file_extension": ".py",
   "mimetype": "text/x-python",
   "name": "python",
   "nbconvert_exporter": "python",
   "pygments_lexer": "ipython3",
   "version": "3.11.3"
  }
 },
 "nbformat": 4,
 "nbformat_minor": 5
}
