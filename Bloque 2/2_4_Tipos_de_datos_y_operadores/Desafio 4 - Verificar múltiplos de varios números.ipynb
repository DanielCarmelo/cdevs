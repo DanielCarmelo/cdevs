{
 "cells": [
  {
   "cell_type": "markdown",
   "id": "116d77ab",
   "metadata": {},
   "source": [
    "# **Desafío 4: Verificar múltiplos de varios números**\n",
    "## Crear un programa que, dado un número, verifique si es múltiplo de: 2, 3, 5, 7, 9, 10 y 11. Imprimir un mensaje por cada verificación."
   ]
  },
  {
   "cell_type": "markdown",
   "id": "b8b97988",
   "metadata": {},
   "source": [
    "**Para poder realizar la conversión debemos buscar Información para establecer la relación matemática que compruebe la afirmación.**\\\n",
    "\\\n",
    "*Para que un número sea multiplo de otro este debe se ser divisible entre este segundo pero no debe de generar resto\\\n",
    "\\\n",
    "*Ejem: ¿Cómo compruebas que 45 es múltiplo de 3?\n",
    "Cuando te preguntan ¿Este número es divisible por 3?, lo más intuitivo es dividir ese número entre 3, y si el resto es igual a cero entonces el número sí es divisible entre 3. Como el resto de la división es cero, podemos decir que 45 es divisible por 3.\n",
    "![division](division.png)\n",
    "\\\n",
    "En python existe la función % que devuelve el valor residuo de la división entre dos numeros, también podemos convertirlo en booleano lo que lo hace True o False para una comprobacion lógica. Ejem: "
   ]
  },
  {
   "cell_type": "code",
   "execution_count": null,
   "id": "1d3aa484",
   "metadata": {
    "vscode": {
     "languageId": "plaintext"
    }
   },
   "outputs": [],
   "source": [
    "a=47\n",
    "b=3\n",
    "if bool(a % b):\n",
    "    print(a,\"NO es multiplo de\",b,\"ya que se genera residui\",a % b )\n",
    "else:\n",
    "    print(a,\"SÍ es multiplo de\",b)"
   ]
  },
  {
   "cell_type": "markdown",
   "id": "c167f01c",
   "metadata": {},
   "source": [
    "**En el ejemplo anterior se plantea que si hay residuo no es multiplo, de lo contrario si es multiplo**"
   ]
  },
  {
   "cell_type": "code",
   "execution_count": null,
   "id": "7e489242",
   "metadata": {
    "vscode": {
     "languageId": "plaintext"
    }
   },
   "outputs": [],
   "source": [
    "# cargamos los divisores en un array que llamaremos divisores y se encontraran ordenados en la manera en la cual la declaramos\n",
    "divisores=[2, 3, 5, 7, 9, 10,11]\n",
    "\n",
    "# Solicitar el número al usuario \n",
    "numero = int(input(\"Por favor, ingresa el número para verificar multiplos:\"))\n",
    "  \n",
    "\n",
    "# creamos una funcion para verificar si es multiplo de cada elemento del array\n",
    "def encontrar_multiplos(numero,divisores):\n",
    "    \n",
    "    for i in range(len(divisores)): # realizara un ciclo por cada elemento del array tomando en cuenta la cantidad de elementos de este\n",
    "        if bool(numero % divisores[i]): # por cada ciclo se movera al siguiente elemento e ira realizando la comprobación del residuo\n",
    "              print(\"El número\",numero,\"No es multiplo de\",divisores[i])\n",
    "        else:      \n",
    "              print(\"El número\",numero,\"Sí es multiplo de\",divisores[i])   \n",
    "    \n",
    "    return \n",
    "\n",
    "encontrar_multiplos(numero,divisores) # llamado a la función anteriormente definida"
   ]
  },
  {
   "cell_type": "markdown",
   "id": "c991601f",
   "metadata": {},
   "source": [
    "##### Por último creamos un bucle que realiza dos verificaciones en el número ingresado, que aunque no sean necesarias le da mayor formalidad al código, evitando que se generen errores de ejecución.\n",
    "* Valida que sea positivo\n",
    "* valida que sea entero\n",
    "##### También se importa la librería os que permite utilizar comandos de sistema, para poder aplicar un clear screen ya sea linux o windows."
   ]
  },
  {
   "cell_type": "code",
   "execution_count": null,
   "id": "cb9ae186",
   "metadata": {
    "vscode": {
     "languageId": "plaintext"
    }
   },
   "outputs": [],
   "source": [
    "import os  # Importamos el módulo 'os' que permite interactuar con el sistema operativo.\n",
    "# Usamos 'os.system()' para ejecutar comandos específicos según el sistema operativo:\n",
    "# 'os.name' devuelve el nombre del sistema operativo:\n",
    "#   - Si 'os.name' es 'nt', significa que estamos en un sistema Windows, y usamos el comando 'cls' para limpiar la consola.\n",
    "#   - Si 'os.name' no es 'nt' (por ejemplo, en macOS o Linux), usamos el comando 'clear' para limpiar la consola.\n",
    "\n",
    "# cargamos los divisores en un array que llamaremos divisores y se encontraran ordenados en la manera en la cual la declaramos\n",
    "divisores=[2, 3, 5, 7, 9, 10,11]\n",
    "\n",
    "\n",
    "# creamos una funcion para verificar si es multiplo de cada elemento del array\n",
    "def encontrar_multiplos(numero,divisores):\n",
    "    \n",
    "    for i in range(len(divisores)): # realizara un ciclo por cada elemento del array tomando en cuenta la cantidad de elementos de este\n",
    "        if bool(numero % divisores[i]): # por cada ciclo se movera al siguiente elemento e ira realizando la comprobación del residuo\n",
    "              print(\"El número\",numero,\"No es multiplo de\",divisores[i])\n",
    "       \n",
    "        else:      \n",
    "              print(\"El número\",numero,\"Sí es multiplo de\",divisores[i])   \n",
    "           \n",
    "    return \n",
    "\n",
    "while True:  # Creamos un bucle infinito\n",
    "    try:\n",
    "        os.system('cls' if os.name == 'nt' else 'clear')\n",
    "        numero = int(input(\"Por favor, ingrese un número entero positivo: \"))  # Solicitamos un número\n",
    "        if numero > 0:  # Verificamos que sea positivo\n",
    "            print(f\"¡Perfecto! Usted ingresó el número: {numero}\")\n",
    "            encontrar_multiplos(numero,divisores) # llamado a la función anteriormente definida\n",
    "\n",
    "\n",
    "            break  # Salimos del bucle si cumple las condiciones\n",
    "        else:\n",
    "       \n",
    "            print(\"El número debe ser positivo. Inténtelo de nuevo.\")\n",
    "            input(\"presione cualquier tecla\") \n",
    "    except ValueError:\n",
    "        print(\"Eso no es un número entero válido. Inténtelo de nuevo.\")\n",
    "        input(\"presione cualquier tecla continuar\")"
   ]
  },
  {
   "cell_type": "markdown",
   "id": "3af7130a",
   "metadata": {},
   "source": [
    "#### **Tipos de datos:**\n",
    "numero **entero** \\\n",
    "divisores **arreglo de una sola dimensión de  números enteros** \n",
    "\n",
    "#### **Operadores**\n",
    "\n",
    "Residuo de la división entre dos números (%)\n",
    "\n",
    "#### **Comparadores Lógicos**\n",
    "bool() conversión a booleano y \n",
    "\">\"(mayor que)\n",
    "\n",
    "#### **Validaciones**\n",
    "\n",
    "que el número ingresado sea entero y positivo\n",
    "\n",
    "\n",
    "\n"
   ]
  }
 ],
 "metadata": {
  "language_info": {
   "name": "python"
  }
 },
 "nbformat": 4,
 "nbformat_minor": 5
}
