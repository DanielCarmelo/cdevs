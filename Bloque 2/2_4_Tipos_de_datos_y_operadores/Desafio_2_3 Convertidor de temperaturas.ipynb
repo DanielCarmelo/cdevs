{
 "cells": [
  {
   "cell_type": "markdown",
   "id": "116d77ab",
   "metadata": {},
   "source": [
    "# **Desafío 3: Convertidor de temperaturas**\n",
    "## Realizar conversiones de una temperatura dada en Celsius a Fahrenheit y Kelvin utilizando operaciones directas sobre variables."
   ]
  },
  {
   "cell_type": "markdown",
   "id": "b8b97988",
   "metadata": {},
   "source": [
    "**Para poder realizar la conversión debemos buscarInformaciónpara establecer la relación matemática entre estas tres magnitudes de temperatura.**\\\n",
    "\\\n",
    "*Para los Celsius y Kelvin resulta relativamente sencillo ya que las escalas de los valores coinciden, no asi la posicion del o, ya que para celcius es el momento en que el agua cambia de estado sólido a liquido y en kelvin el 0 es el 0 absoluto osea la temperatura mínima que puede alcanzar la materia.\\\n",
    "\\\n",
    "![imagen de magnitudes](data/magnitudes.jpg)\n",
    "\\\n",
    " En cambio para los grados Fahrenheit la situación se vuelve más compleja, ya que la escala de la medida es 1.8 veces mayor de las utilizadas por las otras dos magnitudes y situando su 0 en el 0 absoluto al igual que la escala Kelvin. Siguiendo estas condiciones podemos proponernos las suiguientes conversiones:* \\\n",
    "\\\n",
    "![imagen de formulas](data/formulas.png)\n",
    "### **Creamos nuestro código fuente**\n"
   ]
  },
  {
   "cell_type": "code",
   "execution_count": null,
   "id": "7e489242",
   "metadata": {
    "vscode": {
     "languageId": "plaintext"
    }
   },
   "outputs": [],
   "source": [
    "# Solicitar el valor de la temperatura\n",
    "valor_temperatura = float(input(\"Por favor, ingresa el valor de la temperatura: \"))\n",
    "\n",
    "# Solicitar la magnitud ingresada\n",
    "conversion = int(input(\"Por favor, seleccione la magnitud ingresada poniendo el número de opción que corresponde: 1-Celsius  2-Fahrenheit  3-Kelvin : \"))\n",
    "\n",
    "input(\"Presiona Enter para realizar el cálculo...\")\n",
    "\n",
    "# Realizar la conversión según la opción seleccionada\n",
    "if conversion == 1:\n",
    "    # La temperatura ingresada está en Celsius\n",
    "    temperaturacelsius = valor_temperatura\n",
    "    temperatura_fahrenheit = (valor_temperatura * 1.8) + 32\n",
    "    temperaturakelvin = valor_temperatura + 273.15\n",
    "elif conversion == 2:\n",
    "    # La temperatura ingresada está en Fahrenheit\n",
    "    temperatura_fahrenheit = valor_temperatura\n",
    "    temperaturacelsius = (valor_temperatura - 32) / 1.8\n",
    "    temperaturakelvin = (valor_temperatura - 32) / 1.8 + 273.15\n",
    "elif conversion == 3:\n",
    "    # La temperatura ingresada está en Kelvin\n",
    "    temperaturakelvin = valor_temperatura\n",
    "    temperaturacelsius = valor_temperatura - 273.15\n",
    "    temperatura_fahrenheit = (temperaturacelsius * 1.8) + 32\n",
    "else:\n",
    "    print(\"Opción no válida.\")\n",
    "    exit()\n",
    "\n",
    "# Mostrar los resultados\n",
    "print(\"La temperatura en Celsius es:\", temperaturacelsius)\n",
    "print(\"En Fahrenheit es:\", temperatura_fahrenheit)\n",
    "print(\"En Kelvin es:\", temperaturakelvin)"
   ]
  },
  {
   "cell_type": "markdown",
   "id": "3af7130a",
   "metadata": {},
   "source": [
    "#### **Tipos de datos:**\n",
    "conversión **entero** \\\n",
    "valor_temperatura **entero** \\\n",
    "\n",
    "#### **Operadores**\n",
    "Multiplicación(*)\\\n",
    "Suma y Resta (+,-)\n",
    "\n",
    "#### **Comparadores Lógicos**\n",
    "\n",
    "igual(==)\n",
    "\n",
    "#### **Validaciones**\n",
    "\n",
    "Siempre que se elija una opción que este fuera de las tres magnitudes(1,2,3) termina el programa.\n",
    "\n",
    "#### **Otros implementos**\n",
    "Dependiente de la magnitud elegida limitar los rangos inferiores que se pueden ingresar \n",
    "Ejem: no números negativos para los kelvin y los Fahrenheit. Para los celsius dependiendo de la escala seleccionada limitarla a los -273.15 de los kelvin y los -460 de los Fahrenheit.\n",
    "\n",
    "\n"
   ]
  }
 ],
 "metadata": {
  "language_info": {
   "name": "python"
  }
 },
 "nbformat": 4,
 "nbformat_minor": 5
}
