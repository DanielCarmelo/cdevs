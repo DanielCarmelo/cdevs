{
  "cells": [
    {
      "cell_type": "markdown",
      "metadata": {},
      "source": [
        "# Desafío 2\n",
        "\n",
        "Dada la matriz $ A = \\begin{bmatrix} 1 & 0 & 1 \\\\ 4 & -1 & 4 \\\\ 5 & 6 & 7 \\end{bmatrix} $, encuentra la traza de la matriz inversa de $ A $."
      ]
    },
    {
      "cell_type": "code",
      "execution_count": 2,
      "metadata": {},
      "outputs": [
        {
          "name": "stdout",
          "output_type": "stream",
          "text": [
            "La traza de la matriz inversa de A es: 15.00000000000002\n"
          ]
        }
      ],
      "source": [
        "import numpy as np\n",
        "\n",
        "# Definir la matriz A\n",
        "A = np.array([[1, 0, 1],\n",
        "              [4, -1, 4],\n",
        "              [5, 6, 7]])\n",
        "\n",
        "# Calcular la inversa de A\n",
        "A_inv = np.linalg.inv(A)\n",
        "\n",
        "# Calcular la traza de la inversa\n",
        "traza = np.trace(A_inv)\n",
        "\n",
        "# Mostrar el resultado\n",
        "print(\"La traza de la matriz inversa de A es:\", traza)\n"
      ]
    }
  ],
  "metadata": {
    "colab": {
      "authorship_tag": "ABX9TyOWXUv9C4rEVdP4lSPIsnxi",
      "include_colab_link": true,
      "provenance": []
    },
    "kernelspec": {
      "display_name": "Python 3",
      "name": "python3"
    },
    "language_info": {
      "codemirror_mode": {
        "name": "ipython",
        "version": 3
      },
      "file_extension": ".py",
      "mimetype": "text/x-python",
      "name": "python",
      "nbconvert_exporter": "python",
      "pygments_lexer": "ipython3",
      "version": "3.11.3"
    }
  },
  "nbformat": 4,
  "nbformat_minor": 0
}
