{
  "cells": [
    {
      "cell_type": "markdown",
      "metadata": {},
      "source": [
        "# Desafío 5: Crear una simulación de \"vida artificial\" en un tablero de juego (matriz)\n",
        "En este desafío, implementarás una simulación del famoso Juego de la vida de Conway. Se trata de un autómata celular desarrollado por el matemático británico John Horton Conway en 1970. Es un juego de cero jugadores, lo que significa que su evolución se determina por su estado inicial, sin necesidad de más entradas humanas.\n",
        "\n",
        "### Objetivos del problema\n",
        "Crear el Tablero de Juego:\n",
        "\n",
        "Implementa una función para crear un tablero de juego de dimensiones n x m, donde cada celda puede estar viva (1) o muerta (0). Inicializa el tablero con un patrón inicial.\n",
        "\n",
        "### Definir las reglas del juego:\n",
        "\n",
        "Cada celda en el tablero tiene 8 vecinos. Las reglas para la evolución del estado de las celdas son:\n",
        "Una celda viva con menos de dos celdas vecinas vivas muere por subpoblación.\n",
        "Una celda viva con dos o tres celdas vecinas vivas sigue viva en la siguiente generación.\n",
        "Una celda viva con más de tres celdas vecinas vivas muere por sobrepoblación.\n",
        "Una celda muerta con exactamente tres celdas vecinas vivas se convierte en una celda viva por reproducción.\n",
        "\n",
        "### Simular la evolución:\n",
        "\n",
        "Implementa una función para actualizar el tablero siguiendo las reglas del juego. Esta función debería generar la nueva configuración del tablero después de un número específico de iteraciones.\n",
        "\n",
        "### Visualizar la simulación:\n",
        "\n",
        "Utiliza Matplotlib para visualizar la evolución del tablero a lo largo de las iteraciones. Muestra cada estado del tablero como una imagen en una animación."
      ]
    },
    {
      "cell_type": "code",
      "execution_count": null,
      "metadata": {},
      "outputs": [
        {
          "data": {
            "image/png": "[encoded data removed]",
            "text/plain": [
              "<Figure size 640x480 with 1 Axes>"
            ]
          },
          "metadata": {},
          "output_type": "display_data"
        }
      ],
      "source": [
        "import numpy as np\n",
        "import matplotlib.pyplot as plt\n",
        "import matplotlib.animation as animation\n",
        "\n",
        "def crear_tablero(n, m, patron_inicial=None):\n",
        "    tablero = np.zeros((n, m), dtype=int)\n",
        "    if patron_inicial is not None:\n",
        "        for (x, y) in patron_inicial:\n",
        "            if 0 <= x < n and 0 <= y < m:\n",
        "                tablero[x, y] = 1\n",
        "    return tablero\n",
        "\n",
        "def contar_vecinos_vivos(tablero, x, y):\n",
        "    n, m = tablero.shape\n",
        "    suma = 0\n",
        "    for i in range(x-1, x+2):\n",
        "        for j in range(y-1, y+2):\n",
        "            if (i == x and j == y) or i < 0 or j < 0 or i >= n or j >= m:\n",
        "                continue\n",
        "            suma += tablero[i, j]\n",
        "    return suma\n",
        "\n",
        "def actualizar_tablero(tablero):\n",
        "    n, m = tablero.shape\n",
        "    nuevo_tablero = np.zeros((n, m), dtype=int)\n",
        "    \n",
        "    for i in range(n):\n",
        "        for j in range(m):\n",
        "            vecinos = contar_vecinos_vivos(tablero, i, j)\n",
        "            if tablero[i, j] == 1:  # Celda viva\n",
        "                if vecinos < 2 or vecinos > 3:\n",
        "                    nuevo_tablero[i, j] = 0  # Muere\n",
        "                else:\n",
        "                    nuevo_tablero[i, j] = 1  # Sigue viva\n",
        "            else:  # Celda muerta\n",
        "                if vecinos == 3:\n",
        "                    nuevo_tablero[i, j] = 1  # Nace\n",
        "    return nuevo_tablero\n",
        "\n",
        "def animar_juego(tablero_inicial, iteraciones, intervalo=300):\n",
        "    fig, ax = plt.subplots()\n",
        "    img = ax.imshow(tablero_inicial, cmap='Greys', interpolation='nearest')\n",
        "    ax.set_title(\"Juego de la Vida de Conway\")\n",
        "\n",
        "    def update(frame):\n",
        "        nonlocal tablero_inicial\n",
        "        tablero_inicial = actualizar_tablero(tablero_inicial)\n",
        "        img.set_data(tablero_inicial)\n",
        "        return [img]\n",
        "\n",
        "    anim = animation.FuncAnimation(fig, update, frames=iteraciones, interval=intervalo, blit=True)\n",
        "    plt.show()\n",
        "\n",
        "# --- Uso ---\n",
        "\n",
        "# Patrón inicial: \"Glider\"\n",
        "patron_glider = [\n",
        "    (1, 2),\n",
        "    (2, 3),\n",
        "    (3, 1), (3, 2), (3, 3)\n",
        "]\n",
        "\n",
        "n, m = 20, 20\n",
        "tablero = crear_tablero(n, m, patron_glider)\n",
        "\n",
        "# Ejecutar animación durante 50 iteraciones\n",
        "animar_juego(tablero, iteraciones=50)\n"
      ]
    }
  ],
  "metadata": {
    "colab": {
      "authorship_tag": "ABX9TyOWXUv9C4rEVdP4lSPIsnxi",
      "include_colab_link": true,
      "provenance": []
    },
    "kernelspec": {
      "display_name": "Python 3",
      "name": "python3"
    },
    "language_info": {
      "codemirror_mode": {
        "name": "ipython",
        "version": 3
      },
      "file_extension": ".py",
      "mimetype": "text/x-python",
      "name": "python",
      "nbconvert_exporter": "python",
      "pygments_lexer": "ipython3",
      "version": "3.11.3"
    }
  },
  "nbformat": 4,
  "nbformat_minor": 0
}
