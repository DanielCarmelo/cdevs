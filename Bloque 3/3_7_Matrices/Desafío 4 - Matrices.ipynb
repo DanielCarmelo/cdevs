{
  "cells": [
    {
      "cell_type": "markdown",
      "metadata": {},
      "source": [
        "# Desafío 4: Batalla naval\n",
        "\n",
        "Para este desafío, tendrás que implementar un juego sencillo de \"Batalla Naval\". El tablero de juego será una matriz de 5x5 donde el agua será representada por ceros (0) y los barcos por unos (1).\n",
        "\n",
        "Primero, crea un tablero de juego utilizando NumPy, que será una matriz de ceros de 5x5.\n",
        "\n",
        "Luego, coloca tres barcos en el tablero de juego. Cada barco es un 1 y debes colocarlo en una posición aleatoria en el tablero. No te preocupes por el tamaño de los barcos; cada barco ocupará solo una celda.\n",
        "\n",
        "Finalmente, crea una función que acepte dos argumentos (las coordenadas x, y), y que verifique si en esa posición hay un barco (1) o agua (0). La función debe imprimir un mensaje indicando si se golpeó un barco o si el disparo cayó al agua."
      ]
    },
    {
      "cell_type": "code",
      "execution_count": null,
      "metadata": {},
      "outputs": [
        {
          "name": "stdout",
          "output_type": "stream",
          "text": [
            "Tablero (1=barco, 0=agua):\n",
            "[[0 0 0 0 0]\n",
            " [0 0 0 0 0]\n",
            " [0 1 0 1 0]\n",
            " [0 0 0 0 0]\n",
            " [0 0 1 0 0]]\n",
            "¡Tocado! Hay un barco en la posición (2, 3).\n",
            "Agua en la posición (0, 0).\n",
            "Agua en la posición (4, 4).\n"
          ]
        }
      ],
      "source": [
        "import numpy as np\n",
        "import random\n",
        "\n",
        "# Crear tablero 5x5 con ceros (agua)\n",
        "tablero = np.zeros((5,5), dtype=int)\n",
        "\n",
        "# Colocar 3 barcos (1) en posiciones aleatorias sin repetir\n",
        "barcos_colocados = 0\n",
        "while barcos_colocados < 3:\n",
        "    x = random.randint(0,4)\n",
        "    y = random.randint(0,4)\n",
        "    if tablero[x, y] == 0:\n",
        "        tablero[x, y] = 1\n",
        "        barcos_colocados += 1\n",
        "\n",
        "# Función para disparar y verificar resultado\n",
        "def disparar(x, y):\n",
        "    if x < 0 or x > 4 or y < 0 or y > 4:\n",
        "        print(\"Coordenadas fuera del tablero.\")\n",
        "        return\n",
        "    if tablero[x, y] == 1:\n",
        "        print(f\"¡Tocado! Hay un barco en la posición ({x}, {y}).\")\n",
        "        # Opcional: marcar la posición como hundida, por ejemplo con un 2\n",
        "        tablero[x, y] = 2\n",
        "    else:\n",
        "        print(f\"Agua en la posición ({x}, {y}).\")\n",
        "\n",
        "# Mostrar el tablero para fines de prueba (quitar esta línea en el juego real)\n",
        "print(\"Tablero (1=barco, 0=agua):\")\n",
        "print(tablero)\n",
        "\n",
        "# Ejemplo de disparos\n",
        "disparar(2, 3)\n",
        "disparar(0, 0)\n",
        "disparar(4, 4)\n"
      ]
    }
  ],
  "metadata": {
    "colab": {
      "authorship_tag": "ABX9TyOWXUv9C4rEVdP4lSPIsnxi",
      "include_colab_link": true,
      "provenance": []
    },
    "kernelspec": {
      "display_name": "Python 3",
      "name": "python3"
    },
    "language_info": {
      "codemirror_mode": {
        "name": "ipython",
        "version": 3
      },
      "file_extension": ".py",
      "mimetype": "text/x-python",
      "name": "python",
      "nbconvert_exporter": "python",
      "pygments_lexer": "ipython3",
      "version": "3.11.3"
    }
  },
  "nbformat": 4,
  "nbformat_minor": 0
}
