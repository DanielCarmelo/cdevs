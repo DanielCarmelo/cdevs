{
  "cells": [
    {
      "cell_type": "markdown",
      "metadata": {},
      "source": [
        "# Desafío 3\n",
        "\n",
        "Dada la matriz $ A = \\begin{bmatrix} 1 & 2 & 3 \\\\ 4 & 5 & 6 \\\\ 7 & 8 & 9 \\end{bmatrix} $, encuentra el rango de la matriz resultante de $ (A + A^T) $."
      ]
    },
    {
      "cell_type": "code",
      "execution_count": 1,
      "metadata": {},
      "outputs": [
        {
          "name": "stdout",
          "output_type": "stream",
          "text": [
            "Matriz A:\n",
            "[[1 2 3]\n",
            " [4 5 6]\n",
            " [7 8 9]]\n",
            "\n",
            "Transpuesta de A:\n",
            "[[1 4 7]\n",
            " [2 5 8]\n",
            " [3 6 9]]\n",
            "\n",
            "Matriz A + A^T:\n",
            "[[ 2  6 10]\n",
            " [ 6 10 14]\n",
            " [10 14 18]]\n",
            "\n",
            "Rango de la matriz A + A^T:\n",
            "2\n"
          ]
        }
      ],
      "source": [
        "import numpy as np\n",
        "\n",
        "# Definir la matriz A\n",
        "A = np.array([\n",
        "    [1, 2, 3],\n",
        "    [4, 5, 6],\n",
        "    [7, 8, 9]\n",
        "])\n",
        "\n",
        "# Calcular la transpuesta de A\n",
        "A_transpuesta = A.T\n",
        "\n",
        "# Sumar A + A^T\n",
        "suma = A + A_transpuesta\n",
        "\n",
        "# Calcular el rango de la matriz resultante\n",
        "rango = np.linalg.matrix_rank(suma)\n",
        "\n",
        "# Mostrar resultados\n",
        "print(\"Matriz A:\")\n",
        "print(A)\n",
        "print(\"\\nTranspuesta de A:\")\n",
        "print(A_transpuesta)\n",
        "print(\"\\nMatriz A + A^T:\")\n",
        "print(suma)\n",
        "print(\"\\nRango de la matriz A + A^T:\")\n",
        "print(rango)\n"
      ]
    }
  ],
  "metadata": {
    "colab": {
      "authorship_tag": "ABX9TyOWXUv9C4rEVdP4lSPIsnxi",
      "include_colab_link": true,
      "provenance": []
    },
    "kernelspec": {
      "display_name": "Python 3",
      "name": "python3"
    },
    "language_info": {
      "codemirror_mode": {
        "name": "ipython",
        "version": 3
      },
      "file_extension": ".py",
      "mimetype": "text/x-python",
      "name": "python",
      "nbconvert_exporter": "python",
      "pygments_lexer": "ipython3",
      "version": "3.11.3"
    }
  },
  "nbformat": 4,
  "nbformat_minor": 0
}
