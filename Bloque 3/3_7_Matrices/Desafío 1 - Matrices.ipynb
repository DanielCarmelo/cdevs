{
  "cells": [
    {
      "cell_type": "markdown",
      "metadata": {
        "id": "dMte1nstFAV1"
      },
      "source": [
        "# Desafío 1\n",
        "\n",
        "Considere las matrices $ A $ y $ B $ definidas como:\n",
        "\n",
        "$ A = \\begin{bmatrix} 1 & 2 \\\\ 3 & 4 \\end{bmatrix} $     y     $ B = \\begin{bmatrix} 5 & 6 \\\\ 7 & 8 \\end{bmatrix} $\n",
        "\n",
        "Tu tarea es calcular la matriz resultante de la operación $ (2A + B^T) $. Recuerda que $ B^T $ denota la transposición de la matriz $ B $.\n",
        "\n",
        "\n"
      ]
    },
    {
      "cell_type": "code",
      "execution_count": null,
      "metadata": {},
      "outputs": [],
      "source": [
        "import numpy as np\n",
        "\n",
        "# Definir las matrices A y B\n",
        "A = np.array([[1, 2],\n",
        "              [3, 4]])\n",
        "\n",
        "B = np.array([[5, 6],\n",
        "              [7, 8]])\n",
        "\n",
        "# Calcular 2A\n",
        "doble_A = 2 * A\n",
        "\n",
        "# Calcular la transpuesta de B\n",
        "B_transpuesta = B.T\n",
        "\n",
        "# Calcular la matriz resultante: 2A + B^T\n",
        "resultado = doble_A + B_transpuesta\n",
        "\n",
        "# Mostrar el resultado\n",
        "print(\"Matriz resultante (2A + B^T):\")\n",
        "print(resultado)\n"
      ]
    }
  ],
  "metadata": {
    "colab": {
      "authorship_tag": "ABX9TyOWXUv9C4rEVdP4lSPIsnxi",
      "include_colab_link": true,
      "provenance": []
    },
    "kernelspec": {
      "display_name": "Python 3",
      "name": "python3"
    },
    "language_info": {
      "codemirror_mode": {
        "name": "ipython",
        "version": 3
      },
      "file_extension": ".py",
      "mimetype": "text/x-python",
      "name": "python",
      "nbconvert_exporter": "python",
      "pygments_lexer": "ipython3",
      "version": "3.11.1"
    }
  },
  "nbformat": 4,
  "nbformat_minor": 0
}
