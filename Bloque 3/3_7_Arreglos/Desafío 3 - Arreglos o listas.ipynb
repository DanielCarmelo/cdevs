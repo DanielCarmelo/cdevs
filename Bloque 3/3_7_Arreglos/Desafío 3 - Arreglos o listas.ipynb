{
 "cells": [
  {
   "cell_type": "markdown",
   "id": "89ea9f3f",
   "metadata": {},
   "source": [
    "# Desafío 3: Caracteres ASCII\n",
    "\n",
    "Eres un desarrollador creando una herramienta educativa que muestra los caracteres ASCII correspondientes a una lista de números. Se recomienda usar la función chr() para convertir los números en caracteres."
   ]
  },
  {
   "cell_type": "markdown",
   "id": "337e5912",
   "metadata": {},
   "source": [
    "El objetivo es crear un pequeño programa que reciba una lista de números (por ejemplo, códigos ASCII) y muestre qué carácter le corresponde a cada uno usando la función chr() de Python.\n",
    "La función chr(numero) devuelve el carácter correspondiente al número en la tabla Unicode (que incluye ASCII)."
   ]
  },
  {
   "cell_type": "code",
   "execution_count": 1,
   "id": "a205324d",
   "metadata": {},
   "outputs": [
    {
     "name": "stdout",
     "output_type": "stream",
     "text": [
      "Número\t→\tCarácter\n",
      "------------------------\n",
      "65\t→\tA\n",
      "66\t→\tB\n",
      "67\t→\tC\n",
      "97\t→\ta\n",
      "98\t→\tb\n",
      "99\t→\tc\n",
      "48\t→\t0\n",
      "49\t→\t1\n",
      "50\t→\t2\n"
     ]
    }
   ],
   "source": [
    "# Lista de códigos ASCII a convertir\n",
    "numeros = [65, 66, 67, 97, 98, 99, 48, 49, 50]\n",
    "\n",
    "# Mostrar encabezado\n",
    "print(\"Número\\t→\\tCarácter\")\n",
    "print(\"------------------------\")\n",
    "\n",
    "# Recorrer la lista y convertir cada número\n",
    "for num in numeros:\n",
    "    if 0 <= num <= 127:\n",
    "        print(f\"{num}\\t→\\t{chr(num)}\")\n",
    "    else:\n",
    "        print(f\"{num}\\t→\\tNo es un código ASCII válido\")\n",
    "\n"
   ]
  }
 ],
 "metadata": {
  "kernelspec": {
   "display_name": "Python 3",
   "language": "python",
   "name": "python3"
  },
  "language_info": {
   "codemirror_mode": {
    "name": "ipython",
    "version": 3
   },
   "file_extension": ".py",
   "mimetype": "text/x-python",
   "name": "python",
   "nbconvert_exporter": "python",
   "pygments_lexer": "ipython3",
   "version": "3.11.3"
  }
 },
 "nbformat": 4,
 "nbformat_minor": 5
}
