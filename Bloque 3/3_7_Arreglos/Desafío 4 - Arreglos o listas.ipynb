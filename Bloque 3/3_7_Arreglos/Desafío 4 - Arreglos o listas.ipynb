{
 "cells": [
  {
   "cell_type": "markdown",
   "id": "89ea9f3f",
   "metadata": {},
   "source": [
    "# Desafío 4: Control de notas de estudiantes\n",
    "\n",
    "Como profesor, necesitas manejar las notas de tus estudiantes. Permite ingresar todas las notas de los estudiantes y realiza varias operaciones con esos datos.\n",
    "\n",
    "**Pregunta 1: Calcula el promedio de las notas de la clase. ¿Cómo lo harías?**\n",
    "\n",
    "**Pregunta 2: Encuentra la nota más baja y la más alta. ¿Cómo lo harías?**\n",
    "\n",
    "**Pregunta 3: Identifica la nota que más se repite. ¿Cómo lo harías?**\n",
    "\n",
    "Nota: La función Counter es útil porque simplifica el conteo de elementos en una lista, permitiendo identificar rápidamente la frecuencia de cada nota."
   ]
  },
  {
   "cell_type": "markdown",
   "id": "d2274930",
   "metadata": {},
   "source": [
    "# Pregunta 1: Calcular el promedio de las notas de la clase\n",
    "¿Cómo lo harías?\n",
    "\n",
    "Ingresar las notas en una lista.\n",
    "\n",
    "Sumar todas las notas.\n",
    "\n",
    "Dividir la suma total entre la cantidad de notas."
   ]
  },
  {
   "cell_type": "code",
   "execution_count": null,
   "id": "8a12f8d0",
   "metadata": {},
   "outputs": [],
   "source": [
    "# Ingreso de notas separadas por comas\n",
    "entrada = input(\"Ingresa todas las notas separadas por comas (ej: 8.5, 9.0, 7.5): \")\n",
    "\n",
    "# Conversión a lista de números\n",
    "notas = [float(nota.strip()) for nota in entrada.split(\",\")]\n",
    "\n",
    "# Calcular promedio\n",
    "suma_total = sum(notas)\n",
    "cantidad = len(notas)\n",
    "promedio = suma_total / cantidad\n",
    "\n",
    "# Mostrar resultado\n",
    "print(f\"\\nEl promedio de la clase es: {promedio:.2f}\")\n"
   ]
  },
  {
   "cell_type": "markdown",
   "id": "f2a68300",
   "metadata": {},
   "source": [
    "# Pregunta 2: Encontrar la nota más baja y la más alta\n",
    "¿Cómo lo harías?\n",
    "\n",
    "Usar funciones como min() y max() si estás programando.\n",
    "\n",
    "Si lo haces a mano, recorrer todas las notas y comparar una a una."
   ]
  },
  {
   "cell_type": "code",
   "execution_count": null,
   "id": "cadc1657",
   "metadata": {},
   "outputs": [],
   "source": [
    "nota_mas_baja = min(notas)\n",
    "nota_mas_alta = max(notas)\n",
    "print(\"La nota más baja es:\", nota_mas_baja)\n",
    "print(\"La nota más alta es:\", nota_mas_alta)"
   ]
  },
  {
   "cell_type": "markdown",
   "id": "a07d9c92",
   "metadata": {},
   "source": [
    "# Pregunta 3: ¿Cómo identificar la nota que más se repite?\n",
    "¿Cómo lo harías?\n",
    "\n",
    "Para eso usamos la clase Counter del módulo collections, que cuenta cuántas veces aparece cada nota."
   ]
  },
  {
   "cell_type": "code",
   "execution_count": null,
   "id": "e4b7c547",
   "metadata": {},
   "outputs": [],
   "source": [
    "from collections import Counter\n",
    "\n",
    "conteo = Counter(notas)\n",
    "nota_mas_repetida = conteo.most_common(1)[0][0]  # El número más repetido\n",
    "veces = conteo.most_common(1)[0][1]              # Cuántas veces aparece\n",
    "print(\"La nota que más se repite es:\", nota_mas_repetida, \"con\", veces, \"repeticiones\")\n"
   ]
  }
 ],
 "metadata": {
  "kernelspec": {
   "display_name": "Python 3",
   "language": "python",
   "name": "python3"
  },
  "language_info": {
   "codemirror_mode": {
    "name": "ipython",
    "version": 3
   },
   "file_extension": ".py",
   "mimetype": "text/x-python",
   "name": "python",
   "nbconvert_exporter": "python",
   "pygments_lexer": "ipython3",
   "version": "3.11.3"
  }
 },
 "nbformat": 4,
 "nbformat_minor": 5
}
