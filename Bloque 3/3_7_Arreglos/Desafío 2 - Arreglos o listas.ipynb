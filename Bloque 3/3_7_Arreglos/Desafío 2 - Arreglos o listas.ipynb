{
 "cells": [
  {
   "cell_type": "markdown",
   "id": "89ea9f3f",
   "metadata": {},
   "source": [
    "# Desafío 2: Ordenar el inventario de libros\n",
    "\n",
    "Como encargado de la biblioteca, necesitas organizar los libros de acuerdo con sus códigos de identificación en orden decreciente, sin modificar la lista original. Se recomienda usar la función sorted(). ¿Por qué es importante no modificar la lista original? ¿Por qué no puedo usar el método sort sobre la lista original?"
   ]
  },
  {
   "cell_type": "markdown",
   "id": "337e5912",
   "metadata": {},
   "source": [
    "Lo primero que har que tener en cuenta es que las listas son mutables, por lo que debemos ser muy cuidadosos al momento de trabajar con ellas.\n",
    "No se debe usar el método sort() porque cambia el orden de la lista original, y a veces necesitamos conservar ese orden por si se usa después. Por ejemplo, si después quiero volver a ver la lista como estaba al principio, ya no se puede porque sort() la modificó para siempre.\n",
    "\n",
    "En cambio, con la función sorted() se crea una nueva lista ordenada, pero sin cambiar la original. Eso es mejor cuando no queremos perder los datos como estaban antes.\n",
    "\n",
    "Por eso es mejor usar sorted() en este caso, así organizamos los libros en orden descendente sin perder el orden original por si lo necesitamos luego."
   ]
  },
  {
   "cell_type": "code",
   "execution_count": null,
   "id": "a205324d",
   "metadata": {},
   "outputs": [
    {
     "name": "stdout",
     "output_type": "stream",
     "text": [
      "Original: [105, 302, 201, 403]\n",
      "Ordenado: [403, 302, 201, 105]\n"
     ]
    }
   ],
   "source": [
    "libros = [105, 302, 201, 403]\n",
    "libros_ordenados = sorted(libros, reverse=True)\n",
    "\n",
    "print(\"Original:\", libros)            # [105, 302, 201, 403]\n",
    "print(\"Ordenado:\", libros_ordenados)  # [403, 302, 201, 105]\n"
   ]
  }
 ],
 "metadata": {
  "kernelspec": {
   "display_name": "Python 3",
   "language": "python",
   "name": "python3"
  },
  "language_info": {
   "codemirror_mode": {
    "name": "ipython",
    "version": 3
   },
   "file_extension": ".py",
   "mimetype": "text/x-python",
   "name": "python",
   "nbconvert_exporter": "python",
   "pygments_lexer": "ipython3",
   "version": "3.11.3"
  }
 },
 "nbformat": 4,
 "nbformat_minor": 5
}
