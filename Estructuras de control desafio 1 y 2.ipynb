{
 "cells": [
  {
   "cell_type": "markdown",
   "id": "c5993d4d",
   "metadata": {},
   "source": [
    "## Desafío 1: Calificaciones aprobadas \n",
    "\n",
    "Supón que estás analizando las calificaciones de los estudiantes y quieres saber cuántos aprobaron y cuántos desaprobaron. Se considera que una calificación de 7 o superior es aprobatoria y cualquier calificación menor a 7 es desaprobatoria. Utiliza lo que aprendiste sobre bucles y condicionales para resolver este problema."
   ]
  },
  {
   "cell_type": "markdown",
   "id": "44d5caf1",
   "metadata": {},
   "source": [
    "Al iniciar, el programa solicita al usuario que ingrese calificaciones numéricas en un rango de 1 a 12, permitiendo utilizar el valor 0 como indicador para finalizar la entrada de datos. Si el usuario ingresa un valor fuera del rango permitido (menor que 0 o mayor que 12), se muestra un mensaje de error solicitando un nuevo ingreso.\n",
    "\n",
    "Mientras se ingresa cada calificación, el programa evalúa si el estudiante ha aprobado o desaprobado. Se considera aprobado a aquellos con calificaciones iguales o superiores a 7, y desaprobado a quienes obtienen calificaciones entre 1 y 6.\n",
    "\n",
    "Una vez que el usuario decide salir del programa (ingresando el valor 0), se muestran en pantalla dos resultados:\n",
    "\n",
    "La cantidad total de estudiantes aprobados.\n",
    "\n",
    "La cantidad total de estudiantes desaprobados.\n",
    "\n",
    "De esta manera, el programa permite llevar un conteo de aprobados y desaprobados "
   ]
  },
  {
   "cell_type": "code",
   "execution_count": null,
   "id": "e2d4413d",
   "metadata": {},
   "outputs": [],
   "source": [
    "# Inicializamos los contadores para aprobados y desaprobados en 0\n",
    "contar_aprobados = 0\n",
    "contar_desaprobados = 0\n",
    "\n",
    "# Bucle infinito que se mantendrá hasta que el usuario ingrese 0\n",
    "while True:\n",
    "    # Solicitamos al usuario que ingrese la calificación\n",
    "    calificacion = int(input(\"Ingrese la calificación del estudiante (1-12), 0 para salir: \"))\n",
    "\n",
    "    # Verificamos si la calificación está fuera del rango permitido\n",
    "    if calificacion > 12 or calificacion < 0:\n",
    "        print(\"Calificación inválida, intente nuevamente.\")  # Mensaje de error\n",
    "        continue  # Reiniciamos el ciclo sin contar esta entrada\n",
    "\n",
    "    # Condición para salir del bucle\n",
    "    if calificacion == 0:\n",
    "        print(\"Saliendo del programa...\")  # Mensaje de salida\n",
    "        break  # Rompemos el bucle\n",
    "\n",
    "    # Si la calificación es mayor o igual a 7, el estudiante aprueba\n",
    "    elif calificacion >= 7:\n",
    "        contar_aprobados += 1  # Aumentamos el contador de aprobados\n",
    "\n",
    "    # Si la calificación es menor o igual a 6, el estudiante desaprueba\n",
    "    else:\n",
    "        contar_desaprobados += 1  # Aumentamos el contador de desaprobados\n",
    "\n",
    "# Al finalizar el bucle, mostramos los resultados\n",
    "print(\"Los estudiantes que aprobaron fueron:\", contar_aprobados)\n",
    "print(\"Los estudiantes que desaprobaron fueron:\", contar_desaprobados)"
   ]
  },
  {
   "cell_type": "markdown",
   "id": "8048bc19",
   "metadata": {},
   "source": [
    "## Desafío 2: Mejora del cálculo\n",
    "\n",
    "Toma el ejemplo del cálculo del promedio de calificaciones y mejóralo. En lugar de pedir las calificaciones una por una, modifica el código para pedir todas las calificaciones al mismo tiempo (el estudiante puede ingresar las calificaciones separadas por comas) y luego calcular el promedio."
   ]
  },
  {
   "cell_type": "markdown",
   "id": "f9cdbb86",
   "metadata": {},
   "source": [
    "El programa solicita al usuario que ingrese las calificaciones separadas por comas. Las calificaciones deben estar en un rango de 1 a 12, siendo 0 el indicador para finalizar la entrada de datos. Si el usuario ingresa un valor no numérico o fuera del rango permitido, se mostrará un mensaje de error, permitiéndole continuar ingresando nuevas calificaciones.\n",
    "\n",
    "Cada vez que se ingresan calificaciones válidas, estas se acumulan y se cuenta el número total de calificaciones ingresadas. Al ingresar 0, el programa finaliza la entrada de datos, calcula el promedio de las calificaciones válidas y lo muestra en pantalla con dos decimales.\n",
    "\n",
    "Si no se ingresa ninguna calificación válida antes de ingresar 0, el promedio se mostrará como 0.00, evitando así un error por división entre cero."
   ]
  },
  {
   "cell_type": "code",
   "execution_count": null,
   "id": "f9542e2e",
   "metadata": {},
   "outputs": [],
   "source": [
    "# Inicializamos variables\n",
    "suma_calificaciones = 0\n",
    "contador_asignaturas = 0\n",
    "promedio = 0\n",
    "\n",
    "while True:\n",
    "    # Solicitamos las calificaciones separadas por comas o un 0 para salir\n",
    "    entrada = input(\"Ingrese las calificaciones (entre 1 y 12) separadas por una coma o solo el dígito 0 para terminar: \")\n",
    "    \n",
    "    # Si el usuario ingresa '0', terminamos el programa\n",
    "    if entrada == \"0\":\n",
    "        break\n",
    "\n",
    "    # Convertimos la entrada en una lista de cadenas separadas por comas\n",
    "    lista_calificaciones = entrada.split(\",\")\n",
    "    \n",
    "    # Convertimos los elementos de la lista a enteros y validamos el rango\n",
    "    calificaciones_validas = []\n",
    "    for calificacion in lista_calificaciones:\n",
    "        try:\n",
    "            calificacion = int(calificacion)\n",
    "            if 1 <= calificacion <= 12:\n",
    "                calificaciones_validas.append(calificacion)\n",
    "            else:\n",
    "                print(f\"La calificación {calificacion} no es válida. Debe estar entre 1 y 12.\")\n",
    "        except ValueError:\n",
    "            print(f\"{calificacion} no es un número válido. Inténtalo de nuevo.\")\n",
    "    \n",
    "    # Sumamos y contamos las calificaciones válidas\n",
    "    suma_calificaciones += sum(calificaciones_validas)\n",
    "    contador_asignaturas += len(calificaciones_validas)\n",
    "    break\n",
    "\n",
    "# Evitamos la división por cero\n",
    "if contador_asignaturas > 0:\n",
    "    promedio = suma_calificaciones / contador_asignaturas\n",
    "\n",
    "print(f\"El promedio de las calificaciones ingresadas con validez, es: {promedio:.2f}\")"
   ]
  },
  {
   "cell_type": "markdown",
   "id": "481c10f3",
   "metadata": {},
   "source": [
    "Webgrafía: https://www.geeksforgeeks.org/python-get-a-list-as-input-from-user/"
   ]
  }
 ],
 "metadata": {
  "kernelspec": {
   "display_name": "Python 3",
   "language": "python",
   "name": "python3"
  },
  "language_info": {
   "codemirror_mode": {
    "name": "ipython",
    "version": 3
   },
   "file_extension": ".py",
   "mimetype": "text/x-python",
   "name": "python",
   "nbconvert_exporter": "python",
   "pygments_lexer": "ipython3",
   "version": "3.11.3"
  }
 },
 "nbformat": 4,
 "nbformat_minor": 5
}
