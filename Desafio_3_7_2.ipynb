{
 "cells": [
  {
   "cell_type": "markdown",
   "id": "4e58d8e9",
   "metadata": {},
   "source": [
    "# Desafío 2: Ordenar el inventario de libros\n",
    "\n",
    "Como encargado de la biblioteca, necesitas organizar los libros de acuerdo con sus códigos de identificación en orden decreciente, sin modificar la lista original. Se recomienda usar la función sorted(). ¿Por qué es importante no modificar la lista original? ¿Por qué no puedo usar el método sort sobre la lista original?"
   ]
  },
  {
   "cell_type": "markdown",
   "id": "7e1c59c4",
   "metadata": {},
   "source": [
    "Lo primero que har que tener en cuenta es que las listas son mutables, por lo que debemos ser muy cuidadosos al momento de trabajar con ellas.\n",
    "No se debe usar el método sort() porque cambia el orden de la lista original, y a veces necesitamos conservar ese orden por si se usa después. Por ejemplo, si después quiero volver a ver la lista como estaba al principio, ya no se puede porque sort() la modificó para siempre.\n",
    "\n",
    "En cambio, con la función sorted() se crea una nueva lista ordenada, pero sin cambiar la original. Eso es mejor cuando no queremos perder los datos como estaban antes.\n",
    "\n",
    "Por eso es mejor usar sorted() en este caso, así organizamos los libros en orden descendente sin perder el orden original por si lo necesitamos luego."
   ]
  }
 ],
 "metadata": {
  "language_info": {
   "name": "python"
  }
 },
 "nbformat": 4,
 "nbformat_minor": 5
}
